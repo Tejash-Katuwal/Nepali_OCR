{
 "cells": [
  {
   "cell_type": "code",
   "execution_count": 10,
   "id": "0c3a22fb-106d-4d40-a763-b1aa87a9e2b6",
   "metadata": {},
   "outputs": [],
   "source": [
    "from transformers import TrOCRProcessor, VisionEncoderDecoderModel, AutoTokenizer, ViTFeatureExtractor,ViTImageProcessor\n",
    "from PIL import Image\n",
    "import torch"
   ]
  },
  {
   "cell_type": "code",
   "execution_count": 11,
   "id": "0b2a01d9-454e-48d6-9979-21da8a82f636",
   "metadata": {},
   "outputs": [],
   "source": [
    "device = torch.device(\"cuda\")"
   ]
  },
  {
   "cell_type": "code",
   "execution_count": 33,
   "id": "992eaa22-b406-4e3a-9241-89194021973f",
   "metadata": {},
   "outputs": [],
   "source": [
    "image = Image.open(\"trial_5.png\").convert(\"RGB\")"
   ]
  },
  {
   "cell_type": "code",
   "execution_count": 34,
   "id": "7488b26b-93d1-47ef-87b8-6a221d3b4d00",
   "metadata": {},
   "outputs": [
    {
     "name": "stderr",
     "output_type": "stream",
     "text": [
      "Special tokens have been added in the vocabulary, make sure the associated word embeddings are fine-tuned or trained.\n"
     ]
    }
   ],
   "source": [
    "tokenizer = AutoTokenizer.from_pretrained('updated_tokenizer')\n",
    "feature_extractor = ViTImageProcessor.from_pretrained('microsoft/trocr-base-handwritten')"
   ]
  },
  {
   "cell_type": "code",
   "execution_count": 35,
   "id": "3aef1a59-c28b-4e0c-b860-be0e996c4c1b",
   "metadata": {},
   "outputs": [],
   "source": [
    "processor = TrOCRProcessor(image_processor=feature_extractor, tokenizer=tokenizer)"
   ]
  },
  {
   "cell_type": "code",
   "execution_count": 36,
   "id": "5f74cf7d-2efa-44a9-aa91-6412da0ac011",
   "metadata": {},
   "outputs": [],
   "source": [
    "model = VisionEncoderDecoderModel.from_pretrained('nepali_ocr')"
   ]
  },
  {
   "cell_type": "code",
   "execution_count": 37,
   "id": "0b6e3283-f261-4616-ba24-43e01b9bef0c",
   "metadata": {},
   "outputs": [],
   "source": [
    "pixel_values = processor(images=image, return_tensors=\"pt\").pixel_values"
   ]
  },
  {
   "cell_type": "code",
   "execution_count": 38,
   "id": "6421da3e-d493-4c7c-9003-96af24d6a359",
   "metadata": {},
   "outputs": [],
   "source": [
    "generated_ids = model.generate(pixel_values, max_new_tokens=128)\n",
    "generated_text = processor.batch_decode(generated_ids, skip_special_tokens=True)[0]"
   ]
  },
  {
   "cell_type": "code",
   "execution_count": 39,
   "id": "8cec9f16-40e1-4f08-a22a-a5b5d912b028",
   "metadata": {},
   "outputs": [
    {
     "name": "stdout",
     "output_type": "stream",
     "text": [
      "गठब्वन्धन\n"
     ]
    }
   ],
   "source": [
    "print(generated_text)"
   ]
  },
  {
   "cell_type": "code",
   "execution_count": null,
   "id": "2d2c4a24-2bd4-4f92-a5a5-cd509014c39a",
   "metadata": {},
   "outputs": [],
   "source": []
  },
  {
   "cell_type": "code",
   "execution_count": null,
   "id": "c8c7977a-f8b8-4f9e-bd6a-2c8ef07632d6",
   "metadata": {},
   "outputs": [],
   "source": []
  },
  {
   "cell_type": "code",
   "execution_count": null,
   "id": "beeff0b6-a655-4b18-bbd3-9eefd56a6fe9",
   "metadata": {},
   "outputs": [],
   "source": []
  }
 ],
 "metadata": {
  "kernelspec": {
   "display_name": "Python 3 (ipykernel)",
   "language": "python",
   "name": "python3"
  },
  "language_info": {
   "codemirror_mode": {
    "name": "ipython",
    "version": 3
   },
   "file_extension": ".py",
   "mimetype": "text/x-python",
   "name": "python",
   "nbconvert_exporter": "python",
   "pygments_lexer": "ipython3",
   "version": "3.9.0"
  }
 },
 "nbformat": 4,
 "nbformat_minor": 5
}
